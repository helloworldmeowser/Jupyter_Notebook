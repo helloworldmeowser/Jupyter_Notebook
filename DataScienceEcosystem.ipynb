{
 "cells": [
  {
   "cell_type": "markdown",
   "id": "317a8f80-d29b-41a6-8469-e95de29ebf60",
   "metadata": {},
   "source": [
    "# Data Science Tools and Ecosystem"
   ]
  },
  {
   "cell_type": "markdown",
   "id": "9580b842-8d61-4807-b1b5-04c9becae029",
   "metadata": {},
   "source": [
    "In this notebook, Data Science Tools and Ecosystem are summarized"
   ]
  },
  {
   "cell_type": "markdown",
   "id": "d53be6af-2a70-483c-97d5-e26cdff68354",
   "metadata": {},
   "source": [
    "Some of popular languages that Data Scientists use are: \n",
    "1. Python\n",
    "2. R\n",
    "3. SQL \n",
    "4. C++"
   ]
  },
  {
   "cell_type": "markdown",
   "id": "44842ef3-2a20-4181-90af-e2885b63183b",
   "metadata": {},
   "source": [
    "Some of the commonly used libraries used by Data Scientists include:\n",
    "1. TensorFlow\n",
    "2. Numpy\n",
    "3. SciPy\n",
    "4. Pandas\n",
    "5. Matplotlib\n",
    "6. Keras"
   ]
  },
  {
   "cell_type": "markdown",
   "id": "dd389db8-b4ed-4c19-9a5f-cb43c238b718",
   "metadata": {},
   "source": [
    "|Data Science Tools|\n",
    "|---|\n",
    "|SAS|\n",
    "|Apache Hadoop|\n",
    "|TensorFlow|"
   ]
  },
  {
   "cell_type": "markdown",
   "id": "b84b49c3-3122-403c-841b-d0a434f77d5c",
   "metadata": {},
   "source": [
    "### Below are a few examples of evaluating arithmetic expressions in Python:"
   ]
  },
  {
   "cell_type": "code",
   "execution_count": 22,
   "id": "ffbc4bdb-5a26-4dc3-8790-04294a2bd7d5",
   "metadata": {},
   "outputs": [
    {
     "data": {
      "text/plain": [
       "17"
      ]
     },
     "execution_count": 22,
     "metadata": {},
     "output_type": "execute_result"
    }
   ],
   "source": [
    "#Common arithmetic example to multiply and then add integer\n",
    "(3*4)+5"
   ]
  },
  {
   "cell_type": "code",
   "execution_count": 23,
   "id": "3574aa86-1cbb-4d98-a3f8-f667ebb1102b",
   "metadata": {},
   "outputs": [
    {
     "data": {
      "text/plain": [
       "3.3333333333333335"
      ]
     },
     "execution_count": 23,
     "metadata": {},
     "output_type": "execute_result"
    }
   ],
   "source": [
    "#Convert 200 minutes to hours by dividing by 60\n",
    "200/60"
   ]
  },
  {
   "cell_type": "markdown",
   "id": "e47f6186-9bcd-4809-9d43-c70451f8d011",
   "metadata": {},
   "source": [
    "__Objective__\n",
    "-List popular languages for Data Science\n",
    "-List popular libraries for Data Science\n",
    "-List popular known tool for Data Scientist"
   ]
  },
  {
   "cell_type": "markdown",
   "id": "d57b6dde-2a27-49b5-abbc-227bc4536644",
   "metadata": {},
   "source": [
    "## Author"
   ]
  },
  {
   "cell_type": "markdown",
   "id": "8519199f-6e00-426c-b4ee-3b023fa47a86",
   "metadata": {},
   "source": [
    "Tanjai"
   ]
  },
  {
   "cell_type": "code",
   "execution_count": null,
   "id": "991963f2-1fc4-4ddf-aaf3-7a34fa34b7c0",
   "metadata": {},
   "outputs": [],
   "source": []
  }
 ],
 "metadata": {
  "kernelspec": {
   "display_name": "Python 3 (ipykernel)",
   "language": "python",
   "name": "python3"
  },
  "language_info": {
   "codemirror_mode": {
    "name": "ipython",
    "version": 3
   },
   "file_extension": ".py",
   "mimetype": "text/x-python",
   "name": "python",
   "nbconvert_exporter": "python",
   "pygments_lexer": "ipython3",
   "version": "3.12.0"
  }
 },
 "nbformat": 4,
 "nbformat_minor": 5
}
